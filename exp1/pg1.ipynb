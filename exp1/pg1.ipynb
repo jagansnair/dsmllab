{
 "cells": [
  {
   "cell_type": "code",
   "execution_count": 1,
   "id": "2589dd40-8ee1-4a21-87c9-4bd348524b63",
   "metadata": {},
   "outputs": [
    {
     "name": "stdout",
     "output_type": "stream",
     "text": [
      "demo of basic data types:Numbers\n",
      "x= 3\n",
      "y= 2.5\n",
      "Data types of variable x : <class 'int'>\n",
      "Data types of variable y : <class 'float'>\n",
      "Addition: 5.5\n",
      "substraction: 0.5\n",
      "multiplication: 6\n",
      "Exponential: 9\n"
     ]
    }
   ],
   "source": [
    "#labcylce 1\n",
    "#experiment-1\n",
    "print(\"demo of basic data types:Numbers\")\n",
    "x=3\n",
    "y=2.5\n",
    "print(\"x=\",x)\n",
    "print(\"y=\",y)\n",
    "print(\"Data types of variable x :\",type(x))\n",
    "print(\"Data types of variable y :\",type(y))\n",
    "print(\"Addition:\",x+y)\n",
    "print(\"substraction:\",x-y)\n",
    "print(\"multiplication:\",x*2)\n",
    "print(\"Exponential:\",x**2)"
   ]
  },
  {
   "cell_type": "code",
   "execution_count": 2,
   "id": "c180ab2d-ed1e-4457-8988-b4c88dec44ca",
   "metadata": {},
   "outputs": [
    {
     "name": "stdout",
     "output_type": "stream",
     "text": [
      "demo of basic data types:Boolean\n",
      "t= True\n",
      "f= False\n",
      "data type of variable t: <class 'bool'>\n",
      "data type of variable f: <class 'bool'>\n",
      "logical AND operation: False\n",
      "logical OR operation: True\n",
      "logical NOT operation: True\n",
      "logical XOR operation: True\n"
     ]
    }
   ],
   "source": [
    "#experiment-2\n",
    "print(\"demo of basic data types:Boolean\")\n",
    "t=True\n",
    "f=False\n",
    "print(\"t=\",t)\n",
    "print(\"f=\",f)\n",
    "print(\"data type of variable t:\",type(t))\n",
    "print(\"data type of variable f:\",type(f))\n",
    "print(\"logical AND operation:\",t and f)\n",
    "print(\"logical OR operation:\",t or f)\n",
    "print(\"logical NOT operation:\",not f)\n",
    "print(\"logical XOR operation:\",t!=f)\n"
   ]
  },
  {
   "cell_type": "code",
   "execution_count": 3,
   "id": "599fe783-b736-4368-84c8-a3cc60bdeaa9",
   "metadata": {},
   "outputs": [
    {
     "name": "stdout",
     "output_type": "stream",
     "text": [
      "demo of basic data types:String\n",
      "string1= hello\n",
      "string2= world\n",
      "string concatenation: hello world\n",
      "capitalize: Hello world\n",
      "converted to uppercase: HELLO\n",
      "right justify a string:   hello\n",
      "string at center:  hello \n",
      "after replacing l with ell: he(ell)(ell)o\n",
      "string after striping leading and trailing white spaces: world\n"
     ]
    }
   ],
   "source": [
    "#experiment-3\n",
    "print(\"demo of basic data types:String\")\n",
    "s=\"hello\"\n",
    "t=\"world\"\n",
    "print(\"string1=\",s)\n",
    "print(\"string2=\",t)\n",
    "d=s+\" \"+t\n",
    "print(\"string concatenation:\",d)\n",
    "print(\"capitalize:\",d.capitalize())\n",
    "print(\"converted to uppercase:\",s.upper())\n",
    "print(\"right justify a string:\",s.rjust(7))\n",
    "print(\"string at center:\",s.center(7))\n",
    "print(\"after replacing l with ell:\",s.replace('l','(ell)'))\n",
    "print(\"string after striping leading and trailing white spaces:\",'world'.strip())"
   ]
  },
  {
   "cell_type": "code",
   "execution_count": 4,
   "id": "b1179802-2b07-48a5-8689-62ec55254fec",
   "metadata": {},
   "outputs": [
    {
     "name": "stdout",
     "output_type": "stream",
     "text": [
      "containers:Lists\n",
      "list 'nums' contains: [0, 1, 2, 3, 4]\n",
      "list can contain elements of different types .Example: [0, 1, 2, 3, 'abc']\n",
      "'nums after inserting new element at the end: [0, 1, 2, 3, 'abc', 'xyz']\n",
      "sublists:\n",
      "A slice from index 2 to 4: [2, 3]\n",
      "A slice from index 2 to end: [2, 3, 'abc', 'xyz']\n",
      "A slice from the start to index 2: [0, 1]\n",
      "A slice of the whole list: [0, 1, 2, 3, 'abc', 'xyz']\n",
      "after assigning a new sublist to 'nums':\n",
      "1 : 0\n",
      "2 : 1\n",
      "3 : 2\n",
      "4 : 3\n",
      "5 : 8\n",
      "6 : 9\n",
      "list of squares of even numbers from 'nums': [0, 4, 64]\n"
     ]
    }
   ],
   "source": [
    "#experiment-4\n",
    "print(\"containers:Lists\")\n",
    "nums=list(range(5))\n",
    "print(\"list 'nums' contains:\",nums)\n",
    "nums[4]=\"abc\"\n",
    "print(\"list can contain elements of different types .Example:\",nums)\n",
    "nums.append(\"xyz\")\n",
    "print(\"'nums after inserting new element at the end:\",nums)\n",
    "print(\"sublists:\")\n",
    "print(\"A slice from index 2 to 4:\",nums[2:4])\n",
    "print(\"A slice from index 2 to end:\",nums[2:])\n",
    "print(\"A slice from the start to index 2:\",nums[:2])\n",
    "print(\"A slice of the whole list:\",nums[:])\n",
    "nums[4:]=[8,9]\n",
    "print(\"after assigning a new sublist to 'nums':\")\n",
    "for idx,i in enumerate(nums):\n",
    "    print('%d : %s' %(idx+1,i))\n",
    "even_squares=[x**2 for x in nums if x%2==0]\n",
    "print(\"list of squares of even numbers from 'nums':\",even_squares)"
   ]
  },
  {
   "cell_type": "code",
   "execution_count": 5,
   "id": "ae7f3c03-5135-4cd6-9ced-269ed93d843f",
   "metadata": {},
   "outputs": [
    {
     "name": "stdout",
     "output_type": "stream",
     "text": [
      "containers:Dictionaries\n",
      "Dictionary: {'cat': 'cute', 'dog': 'furry'}\n",
      "Is the dictionary has the key 'cat'? True\n",
      "after adding new entry to 'd': {'cat': 'cute', 'dog': 'furry', 'fish': 'wet'}\n",
      "get an element monkey: N/A\n",
      "get an element fish: wet\n",
      "after deleting newly added entry from 'd': {'cat': 'cute', 'dog': 'furry'}\n",
      "demo of dictionary comprehension:\n",
      "squares of integers of range 10:\n",
      "0 : 0\n",
      "1 : 1\n",
      "2 : 4\n",
      "3 : 9\n",
      "4 : 16\n",
      "5 : 25\n",
      "6 : 36\n",
      "7 : 49\n",
      "8 : 64\n",
      "9 : 81\n"
     ]
    }
   ],
   "source": [
    "#experiment-5\n",
    "print(\"containers:Dictionaries\")\n",
    "d=dict()\n",
    "d={'cat':'cute','dog':'furry'}\n",
    "print(\"Dictionary:\",d)\n",
    "print(\"Is the dictionary has the key 'cat'?\",'cat' in d)\n",
    "d['fish']='wet'\n",
    "print(\"after adding new entry to 'd':\",d)\n",
    "print(\"get an element monkey:\",d.get('monkey','N/A'))\n",
    "print(\"get an element fish:\",d.get('fish','N/A'))\n",
    "del d['fish']\n",
    "print(\"after deleting newly added entry from 'd':\",d)\n",
    "print(\"demo of dictionary comprehension:\")\n",
    "squares={x:x*x for x in range(10)}\n",
    "print(\"squares of integers of range 10:\")\n",
    "for k,v in squares.items():\n",
    "    print(k,\":\",v)"
   ]
  },
  {
   "cell_type": "code",
   "execution_count": 6,
   "id": "8df839dd-a88a-4066-a366-8924e76c3c2d",
   "metadata": {},
   "outputs": [
    {
     "name": "stdout",
     "output_type": "stream",
     "text": [
      "containers:Sets\n",
      "set 'num1': {120, 100, 110}\n",
      "'num1' after inserting 90: {120, 90, 100, 110}\n",
      "'num1' after inserting multiple elements: {100, 70, 110, 50, 120, 90, 60}\n",
      "'num1' after removing 60: {100, 70, 110, 50, 120, 90}\n",
      "set comprehension and set operation:\n",
      "n1= {0, 1, 2, 3, 4, 5, 6, 7, 8, 9}\n",
      "n2= {1, 3, 5, 7, 9}\n",
      "n1 union n2: {0, 1, 2, 3, 4, 5, 6, 7, 8, 9}\n",
      "n1 intersection n2: {1, 3, 5, 7, 9}\n",
      "n1 difference n2: {0, 2, 4, 6, 8}\n"
     ]
    }
   ],
   "source": [
    "#experiment-6\n",
    "print(\"containers:Sets\")\n",
    "num1={100,110,120}\n",
    "print(\"set 'num1':\",num1)\n",
    "num1.add(90)\n",
    "print(\"'num1' after inserting 90:\",num1)\n",
    "num1.update([50,60,70])\n",
    "print(\"'num1' after inserting multiple elements:\",num1)\n",
    "num1.remove(60)\n",
    "print(\"'num1' after removing 60:\",num1)\n",
    "print(\"set comprehension and set operation:\")\n",
    "n1={x for x in range(10)}\n",
    "print(\"n1=\",n1)\n",
    "n2={x for x in range(10) if x%2!=0}\n",
    "print(\"n2=\",n2)\n",
    "print(\"n1 union n2:\",n1|n2)\n",
    "print(\"n1 intersection n2:\",n1&n2)\n",
    "print(\"n1 difference n2:\",n1-n2)"
   ]
  },
  {
   "cell_type": "code",
   "execution_count": 7,
   "id": "e13348c3-f638-4e53-886d-933f6e0dedb8",
   "metadata": {},
   "outputs": [
    {
     "name": "stdout",
     "output_type": "stream",
     "text": [
      "containers:Tuples\n",
      "Dictionary with tuples keys:\n",
      "(0, 1) : 0\n",
      "(1, 2) : 1\n",
      "(2, 3) : 2\n",
      "(3, 4) : 3\n",
      "(4, 5) : 4\n",
      "(5, 6) : 5\n",
      "(6, 7) : 6\n",
      "(7, 8) : 7\n",
      "(8, 9) : 8\n",
      "(9, 10) : 9\n",
      "tuple t: (5, 6)\n",
      "5\n",
      "1\n"
     ]
    }
   ],
   "source": [
    "#experiment-7\n",
    "print(\"containers:Tuples\")\n",
    "d={(x,x+1):x for x in range(10)}\n",
    "print(\"Dictionary with tuples keys:\")\n",
    "for k,v in d.items():\n",
    "    print(k,\":\",v)\n",
    "t=(5,6)\n",
    "print(\"tuple t:\",t)\n",
    "print(d[t])\n",
    "print(d[1,2])"
   ]
  },
  {
   "cell_type": "code",
   "execution_count": 8,
   "id": "6cdd2270-74d3-4ea3-9b8d-fc4aafc1cd23",
   "metadata": {},
   "outputs": [
    {
     "name": "stdout",
     "output_type": "stream",
     "text": [
      "demo of function:Program to find factorial of a number\n"
     ]
    },
    {
     "name": "stdin",
     "output_type": "stream",
     "text": [
      "enter a number: 4\n"
     ]
    },
    {
     "name": "stdout",
     "output_type": "stream",
     "text": [
      "factorial: 24\n"
     ]
    }
   ],
   "source": [
    "#experiment-8\n",
    "print(\"demo of function:Program to find factorial of a number\")\n",
    "def fact(n):\n",
    "    if n==1:\n",
    "        return 1\n",
    "    else:\n",
    "        return (n*fact(n-1))\n",
    "n=int(input(\"enter a number:\"))\n",
    "print(\"factorial:\",fact(n))"
   ]
  },
  {
   "cell_type": "code",
   "execution_count": 10,
   "id": "8eaf9de8-214a-4994-bf22-2ed308ea820b",
   "metadata": {},
   "outputs": [
    {
     "name": "stdout",
     "output_type": "stream",
     "text": [
      "Hello,Fred\n",
      "HELLO,FRED!\n"
     ]
    }
   ],
   "source": [
    "#experiment-9\n",
    "class Greeter:\n",
    "    def __init__(self,name):\n",
    "        self.name=name\n",
    "    def greet(self,loud=False):\n",
    "        if loud:\n",
    "            print('HELLO,%s!'%self.name.upper())\n",
    "        else:\n",
    "            print('Hello,%s'%self.name)\n",
    "g=Greeter('Fred')\n",
    "g.greet()\n",
    "g.greet(loud=True)\n"
   ]
  },
  {
   "cell_type": "code",
   "execution_count": null,
   "id": "cc68018d-7b98-4baf-852e-ddaf1e1c5489",
   "metadata": {},
   "outputs": [],
   "source": []
  },
  {
   "cell_type": "code",
   "execution_count": null,
   "id": "7a811f32-005c-41d5-8a85-2b11fadfa15e",
   "metadata": {},
   "outputs": [],
   "source": []
  }
 ],
 "metadata": {
  "kernelspec": {
   "display_name": "Python 3 (ipykernel)",
   "language": "python",
   "name": "python3"
  },
  "language_info": {
   "codemirror_mode": {
    "name": "ipython",
    "version": 3
   },
   "file_extension": ".py",
   "mimetype": "text/x-python",
   "name": "python",
   "nbconvert_exporter": "python",
   "pygments_lexer": "ipython3",
   "version": "3.12.4"
  }
 },
 "nbformat": 4,
 "nbformat_minor": 5
}
