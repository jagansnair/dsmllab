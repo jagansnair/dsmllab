{
 "cells": [
  {
   "cell_type": "code",
   "execution_count": 2,
   "id": "9af99829-254f-4671-a068-369ab79e373f",
   "metadata": {},
   "outputs": [
    {
     "name": "stdout",
     "output_type": "stream",
     "text": [
      "one dimensional array a= [1 2 3]\n",
      "two dimensional array b= [[1 2 3]\n",
      " [4 5 6]]\n",
      "size of the array: (3,)\n",
      "element at indices 0,1,2: 1 2 3\n",
      "array after changing the element at index 0: [5 2 3]\n",
      "array of all zeros: [[0. 0.]\n",
      " [0. 0.]]\n",
      "array of all ones: [[1. 1.]]\n",
      "a constant array: [[7 7]\n",
      " [7 7]]\n",
      "a 2X2 identity matrix [[1. 0.]\n",
      " [0. 1.]]\n",
      "an array with random values: [[0.33988968 0.88354136]\n",
      " [0.64463919 0.96391615]]\n"
     ]
    }
   ],
   "source": [
    "import numpy as np\n",
    "a=np.array([1,2,3])\n",
    "print(\"one dimensional array a=\",a)\n",
    "b=np.array([[1,2,3],[4,5,6]])\n",
    "print(\"two dimensional array b=\",b)\n",
    "print(\"size of the array:\",a.shape)\n",
    "print(\"element at indices 0,1,2:\",a[0],a[1],a[2])\n",
    "a[0]=5\n",
    "print(\"array after changing the element at index 0:\",a)\n",
    "a=np.zeros((2,2))\n",
    "print(\"array of all zeros:\",a)\n",
    "b=np.ones((1,2))\n",
    "print(\"array of all ones:\",b)\n",
    "c=np.full((2,2),7)\n",
    "print(\"a constant array:\",c)\n",
    "d=np.eye(2)\n",
    "print(\"a 2X2 identity matrix\",d)\n",
    "e=np.random.random((2,2))\n",
    "print(\"an array with random values:\",e)"
   ]
  },
  {
   "cell_type": "code",
   "execution_count": 46,
   "id": "73cc355c-1145-4dc0-ae91-673aba572cfe",
   "metadata": {},
   "outputs": [
    {
     "name": "stdout",
     "output_type": "stream",
     "text": [
      "Array indexing:slicing\n",
      "a1= [[ 1  2  3  4]\n",
      " [ 5  6  7  8]\n",
      " [ 9 10 11 12]]\n",
      "sub array consisting of first two rows and columns 1 and 2: [[2 3]\n",
      " [6 7]]\n",
      "subarray consists of second row: [[5 6 7 8]]\n",
      "Acessing columns:\n",
      "[ 2  6 10] (3,)\n",
      "[[ 2]\n",
      " [ 6]\n",
      " [10]] (3, 1)\n",
      "Array integer indexing: \n",
      "a2= [[1 2]\n",
      " [3 4]\n",
      " [5 6]]\n",
      "Example of array indexing: [1 4 5]\n",
      "[2 2]\n",
      "[2 2]\n",
      "a3= [[ 1  2  3]\n",
      " [ 4  5  6]\n",
      " [ 7  8  9]\n",
      " [10 11 12]]\n",
      "b =  [0 2 0 1]\n",
      "a3= [ 1  6  7 11]\n",
      "a3 =  [[11  2  3]\n",
      " [ 4  5 16]\n",
      " [17  8  9]\n",
      " [10 21 12]]\n",
      "Boolean array indexing: \n",
      "a =  [[1 2]\n",
      " [3 4]\n",
      " [5 6]]\n",
      "Elements greater than 2:  [3 4 5 6]\n"
     ]
    }
   ],
   "source": [
    "import numpy as np\n",
    "print(\"Array indexing:slicing\")\n",
    "a1=np.array([[1,2,3,4],[5,6,7,8],[9,10,11,12]])\n",
    "print(\"a1=\",a1)\n",
    "b=a1[:2,1:3]\n",
    "print(\"sub array consisting of first two rows and columns 1 and 2:\",b)\n",
    "b=a1[1:2]\n",
    "print(\"subarray consists of second row:\",b)\n",
    "print(\"Acessing columns:\")\n",
    "b=a1[:,1]\n",
    "print(b,b.shape)\n",
    "c=a1[:,1:2]\n",
    "print(c,c.shape)\n",
    "print(\"Array integer indexing: \")\n",
    "a2=np.array([[1,2],[3,4],[5,6]])\n",
    "print(\"a2=\",a2)\n",
    "print(\"Example of array indexing:\",a2[[0,1,2],[0,1,0]])\n",
    "print(a2[[0,0],[1,1]])\n",
    "print(np.array([a2[0, 1], a2[0, 1]]))\n",
    "a3=a=np.array([[1,2,3], [4,5,6], [7,8,9], [10, 11, 12]])\n",
    "print(\"a3=\",a3)\n",
    "#Create an array of indices\n",
    "b=np.array([0, 2, 0, 1])\n",
    "print(\"b = \",b)\n",
    "# Select one element from each row of a using the indices in b \n",
    "print(\"a3=\",a3[np.arange(4), b])\n",
    "#Mutate one element from each row of a using the indices in b\n",
    "a3[np.arange(4), b] += 10\n",
    "print(\"a3 = \",a3)\n",
    "print(\"Boolean array indexing: \")\n",
    "a = np.array([[1,2], [3, 4], [5, 6]])\n",
    "print(\"a = \",a)\n",
    "bool_idx= (a > 2)\n",
    "print(\"Elements greater than 2: \",a[bool_idx])"
   ]
  },
  {
   "cell_type": "code",
   "execution_count": 49,
   "id": "72dcbbb8-9353-4058-ae63-a0cbdf47629d",
   "metadata": {},
   "outputs": [
    {
     "name": "stdout",
     "output_type": "stream",
     "text": [
      "x =  [[1. 2.]\n",
      " [3. 4.]]\n",
      "y =  [[6. 9.]\n",
      " [4. 4.]]\n",
      "Element wise addition:  [[2. 4.]\n",
      " [6. 8.]]\n",
      "Element wise subtraction:  [[-5. -7.]\n",
      " [-1.  0.]]\n",
      "Element wise multiplication:  [[ 6. 18.]\n",
      " [12. 16.]]\n",
      "Element wise square root of x:  [[1.         1.41421356]\n",
      " [1.73205081 2.        ]]\n",
      "Matrix multiplication:  [[14. 17.]\n",
      " [34. 43.]]\n",
      "Sum of all elements of matrix x:  10.0\n",
      "Sum of elements in each column of matrix y:  [10. 13.]\n",
      "Sum of elements in each row of matrix y:  [15.  8.]\n",
      "Transpose of matrix x:  [[1. 3.]\n",
      " [2. 4.]]\n"
     ]
    }
   ],
   "source": [
    "import numpy as n\n",
    "x= np.array([[1,2],[3,4]],dtype=np.float64)\n",
    "y = np.array([[6,9], [4, 4]], dtype=np.float64)\n",
    "print(\"x = \",x)\n",
    "print(\"y = \",y)\n",
    "print(\"Element wise addition: \",np.add(x, x))\n",
    "print(\"Element wise subtraction: \",np.subtract(x, y))\n",
    "print(\"Element wise multiplication: \",np.multiply(x, y))\n",
    "print(\"Element wise square root of x: \",np.sqrt(x))\n",
    "print(\"Matrix multiplication: \",np.dot(x, y))\n",
    "print(\"Sum of all elements of matrix x: \",np.sum(x))\n",
    "print(\"Sum of elements in each column of matrix y: \",np.sum(y,axis=0))\n",
    "print(\"Sum of elements in each row of matrix y: \",np.sum(y,axis=1))\n",
    "print(\"Transpose of matrix x: \",x.T)"
   ]
  },
  {
   "cell_type": "code",
   "execution_count": 53,
   "id": "3faf16b9-86e1-4933-9649-cdbbaf607f52",
   "metadata": {},
   "outputs": [
    {
     "name": "stdout",
     "output_type": "stream",
     "text": [
      "Example for broadcasting: \n",
      "v =  [1 2 3]\n",
      "w =  [4 5]\n",
      "Outer product of above vectors: \n",
      "[[ 4  5]\n",
      " [ 8 10]\n",
      " [12 15]]\n",
      "x =  [[1 2 3]\n",
      " [4 5 6]]\n",
      "Resultant matrix after adding the vector x to each row of matrix v: \n",
      "[[2 4 6]\n",
      " [5 7 9]]\n",
      "Example for broadcasting fails: \n",
      "Adding the vector x to each column of matrix w will generate an error\n",
      "Solution: Reshape the matrix w then the result will be: \n",
      "[[ 5  6  7]\n",
      " [ 9 10 11]]\n"
     ]
    }
   ],
   "source": [
    "import numpy as np\n",
    "\n",
    "print(\"Example for broadcasting: \")\n",
    "\n",
    "v=np.array([1,2,3])\n",
    "\n",
    "w=np.array([4,5])\n",
    "\n",
    "print(\"v = \",v)\n",
    "\n",
    "print(\"w = \",w)\n",
    "\n",
    "print(\"Outer product of above vectors: \")\n",
    "\n",
    "print(np.reshape(v,(3,1))*w)\n",
    "\n",
    "x=np.array([[1,2,3],[4,5,6]])\n",
    "\n",
    "print(\"x = \",x)\n",
    "\n",
    "print(\"Resultant matrix after adding the vector x to each row of matrix v: \")\n",
    "\n",
    "print(x+v)\n",
    "\n",
    "print(\"Example for broadcasting fails: \")\n",
    "\n",
    "print(\"Adding the vector x to each column of matrix w will generate an error\")\n",
    "\n",
    "print(\"Solution: Reshape the matrix w then the result will be: \")\n",
    "\n",
    "print(x+np.reshape(w, (2,1)))"
   ]
  },
  {
   "cell_type": "code",
   "execution_count": 2,
   "id": "0f740a5f-696c-41cf-99b9-574b6adf0592",
   "metadata": {},
   "outputs": [
    {
     "name": "stdout",
     "output_type": "stream",
     "text": [
      "A= [[1 2]\n",
      " [3 4]\n",
      " [5 6]]\n",
      "shape of array A: (3, 2)\n",
      "\n",
      "U= [[-0.2298477   0.88346102  0.40824829]\n",
      " [-0.52474482  0.24078249 -0.81649658]\n",
      " [-0.81964194 -0.40189603  0.40824829]]\n",
      "shape of matrix U: (3, 3)\n",
      "\n",
      "Sigma (diagonal matrix),s= [9.52551809 0.51430058]\n",
      "shape of matrix sigma: (2,)\n",
      "\n",
      "transpose MATRIX,VT= [[-0.61962948 -0.78489445]\n",
      " [-0.78489445  0.61962948]]\n",
      "Shape of MATRIX VT: (2, 2)\n"
     ]
    }
   ],
   "source": [
    "from numpy import array \n",
    "from scipy.linalg import svd\n",
    "A=array([[1,2],[3,4],[5,6]])\n",
    "print(\"A=\",A)\n",
    "print(\"shape of array A:\",A.shape)\n",
    "print(\"\")\n",
    "U,s,VT=svd(A)\n",
    "print(\"U=\",U)\n",
    "print(\"shape of matrix U:\",U.shape)\n",
    "print(\"\")\n",
    "print(\"Sigma (diagonal matrix),s=\",s)\n",
    "print(\"shape of matrix sigma:\",s.shape)\n",
    "print(\"\")\n",
    "print(\"transpose MATRIX,VT=\",VT)\n",
    "print(\"Shape of MATRIX VT:\",VT.shape)\n"
   ]
  },
  {
   "cell_type": "code",
   "execution_count": 3,
   "id": "6eea4e4c-b5b4-422e-8290-a11cdcd6e34d",
   "metadata": {},
   "outputs": [
    {
     "name": "stdout",
     "output_type": "stream",
     "text": [
      "A =  [[1 2]\n",
      " [3 4]\n",
      " [5 6]]\n",
      "Shape of matrix A  (3, 2)\n",
      "U =  [[-0.2298477   0.88346102  0.40824829]\n",
      " [-0.52474482  0.24078249 -0.81649658]\n",
      " [-0.81964194 -0.40189603  0.40824829]]\n",
      "Shape of matrix U (3, 3)\n",
      "Sigma diagonal matrix s= [9.52551809 0.51430058]\n",
      "Shape of matrix s (2,)\n",
      "VT = [[-0.61962948 -0.78489445]\n",
      " [-0.78489445  0.61962948]]\n",
      "Shape of diagonal matrix  (2, 2)\n",
      "Reconstructed matrix:  [[1. 2.]\n",
      " [3. 4.]\n",
      " [5. 6.]]\n"
     ]
    }
   ],
   "source": [
    "from numpy import array, diag, dot, zeros\n",
    "from scipy.linalg import svd\n",
    "A=array([[1, 2], [3, 4], [5, 6]])\n",
    "print(\"A = \",A)\n",
    "\n",
    "print(\"Shape of matrix A \",A.shape)\n",
    "U,s,VT=svd(A)\n",
    "print(\"U = \",U)\n",
    "print(\"Shape of matrix U\",U.shape)\n",
    "print(\"Sigma diagonal matrix s=\",s)\n",
    "print(\"Shape of matrix s\",s.shape)\n",
    "print(\"VT =\",VT)\n",
    "\n",
    "print(\"Shape of diagonal matrix \",VT.shape)\n",
    "sigma=zeros((A.shape[0],A.shape[1]))\n",
    "sigma[:A.shape[1],:A.shape[1]]=diag(s)\n",
    "B=U.dot(sigma.dot(VT))\n",
    "print(\"Reconstructed matrix: \",B)\n"
   ]
  },
  {
   "cell_type": "code",
   "execution_count": 4,
   "id": "4c1ffb4e-1b03-49ea-8941-a6ac40fe958e",
   "metadata": {},
   "outputs": [
    {
     "name": "stdout",
     "output_type": "stream",
     "text": [
      "A =  [[1 2]\n",
      " [3 4]\n",
      " [5 6]]\n",
      "Pseudoinverse of matrix A calculated by function pinv is: \n",
      "[[-1.33333333 -0.33333333  0.66666667]\n",
      " [ 1.08333333  0.33333333 -0.41666667]]\n",
      "Pseudoinverse of matrix A calculated by using svd is: \n",
      "[[-1.33333333 -0.33333333  0.66666667]\n",
      " [ 1.08333333  0.33333333 -0.41666667]]\n"
     ]
    }
   ],
   "source": [
    "#svd for pseudoinverse\n",
    "from numpy import array, diag,zeros\n",
    "from scipy.linalg import pinv\n",
    "from numpy.linalg import svd\n",
    "A=array([[1, 2], [3, 4],[5, 6]])\n",
    "print(\"A = \",A)\n",
    "print(\"Pseudoinverse of matrix A calculated by function pinv is: \")\n",
    "print(pinv(A))\n",
    "d=1.0/s\n",
    "D=zeros(A.shape)\n",
    "D[:A.shape[1],:A.shape[1]]=diag(d)\n",
    "B=VT.T.dot(D.T).dot(U.T)\n",
    "print(\"Pseudoinverse of matrix A calculated by using svd is: \")\n",
    "\n",
    "print(B)\n",
    "\n"
   ]
  },
  {
   "cell_type": "code",
   "execution_count": null,
   "id": "91cde537-37bf-48e5-98db-d042096e1ab8",
   "metadata": {},
   "outputs": [],
   "source": []
  }
 ],
 "metadata": {
  "kernelspec": {
   "display_name": "Python 3 (ipykernel)",
   "language": "python",
   "name": "python3"
  },
  "language_info": {
   "codemirror_mode": {
    "name": "ipython",
    "version": 3
   },
   "file_extension": ".py",
   "mimetype": "text/x-python",
   "name": "python",
   "nbconvert_exporter": "python",
   "pygments_lexer": "ipython3",
   "version": "3.12.4"
  }
 },
 "nbformat": 4,
 "nbformat_minor": 5
}
